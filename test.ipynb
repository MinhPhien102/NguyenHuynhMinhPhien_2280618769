{
  "cells": [
    {
      "cell_type": "code",
      "execution_count": 2,
      "metadata": {
        "colab": {
          "base_uri": "https://localhost:8080/"
        },
        "id": "hW4j5Ehp0iah",
        "outputId": "f76abb23-7a05-4693-8491-f2d12c0c0cd0"
      },
      "outputs": [
        {
          "name": "stdout",
          "output_type": "stream",
          "text": [
            "8\n"
          ]
        }
      ],
      "source": [
        "a = 5\n",
        "b = 3\n",
        "result = a + b\n",
        "print ( result)"
      ]
    },
    {
      "cell_type": "code",
      "execution_count": 3,
      "metadata": {
        "colab": {
          "base_uri": "https://localhost:8080/"
        },
        "id": "MOO4o_9a0kro",
        "outputId": "fed2ad1f-5197-46a1-d38b-f06d24eb378c"
      },
      "outputs": [
        {
          "name": "stdout",
          "output_type": "stream",
          "text": [
            "4\n"
          ]
        }
      ],
      "source": [
        "a = 8\n",
        "b = 4\n",
        "result = a - b\n",
        "print ( result)"
      ]
    },
    {
      "cell_type": "code",
      "execution_count": null,
      "metadata": {
        "id": "QEOA2m6uAae0"
      },
      "outputs": [],
      "source": []
    },
    {
      "cell_type": "code",
      "execution_count": 4,
      "metadata": {
        "colab": {
          "base_uri": "https://localhost:8080/"
        },
        "id": "72JDQ1Me1pZ4",
        "outputId": "5e2dc917-c9c0-4dee-cc0d-23c3804d0f4a"
      },
      "outputs": [
        {
          "name": "stdout",
          "output_type": "stream",
          "text": [
            "42\n"
          ]
        }
      ],
      "source": [
        "a = 6\n",
        "b = 7\n",
        "result = a * b\n",
        "print ( result)"
      ]
    },
    {
      "cell_type": "code",
      "execution_count": 5,
      "metadata": {
        "colab": {
          "base_uri": "https://localhost:8080/"
        },
        "id": "WlKv7gGG1t2w",
        "outputId": "a09d1f96-4eea-42c2-fecb-c8880ebefa76"
      },
      "outputs": [
        {
          "name": "stdout",
          "output_type": "stream",
          "text": [
            "4.0\n"
          ]
        }
      ],
      "source": [
        "a = 20\n",
        "b = 5\n",
        "result = a / b\n",
        "print ( result)"
      ]
    },
    {
      "cell_type": "code",
      "execution_count": 6,
      "metadata": {
        "colab": {
          "base_uri": "https://localhost:8080/"
        },
        "id": "LR8C6ABs1yZg",
        "outputId": "9bc800d8-e107-4f8f-b97e-4fbf663d2c37"
      },
      "outputs": [
        {
          "name": "stdout",
          "output_type": "stream",
          "text": [
            "6\n"
          ]
        }
      ],
      "source": [
        "a = 20\n",
        "b = 3\n",
        "result = a // b\n",
        "print ( result)"
      ]
    },
    {
      "cell_type": "code",
      "execution_count": 8,
      "metadata": {
        "colab": {
          "base_uri": "https://localhost:8080/"
        },
        "id": "9o9BKgKH13uI",
        "outputId": "fdcd86b8-2248-4eb6-bae2-17cc3f234e23"
      },
      "outputs": [
        {
          "name": "stdout",
          "output_type": "stream",
          "text": [
            "6\n"
          ]
        }
      ],
      "source": [
        "a = 20\n",
        "b = 7\n",
        "remainder = a % b\n",
        "print ( remainder)"
      ]
    },
    {
      "cell_type": "code",
      "execution_count": 9,
      "metadata": {
        "colab": {
          "base_uri": "https://localhost:8080/"
        },
        "id": "rsm7w0k82Cr4",
        "outputId": "6f983806-fe27-4ab2-f346-36aa02045d0a"
      },
      "outputs": [
        {
          "name": "stdout",
          "output_type": "stream",
          "text": [
            "8\n"
          ]
        }
      ],
      "source": [
        "a = 2\n",
        "b = 3\n",
        "result = a ** b\n",
        "print ( result)"
      ]
    },
    {
      "cell_type": "code",
      "execution_count": 11,
      "metadata": {
        "colab": {
          "base_uri": "https://localhost:8080/"
        },
        "id": "oMoQlEmy2Lhp",
        "outputId": "bad754e9-fde1-4a84-b565-033cd09891c8"
      },
      "outputs": [
        {
          "name": "stdout",
          "output_type": "stream",
          "text": [
            "True\n"
          ]
        }
      ],
      "source": [
        "x = 5\n",
        "y = 3\n",
        "result = (x>2) and (y<4)\n",
        "print (result)"
      ]
    },
    {
      "cell_type": "code",
      "execution_count": 12,
      "metadata": {
        "colab": {
          "base_uri": "https://localhost:8080/"
        },
        "id": "3yaJlofo3Eky",
        "outputId": "f7d4c86c-cb4d-4e0a-9d51-2639c2c93500"
      },
      "outputs": [
        {
          "name": "stdout",
          "output_type": "stream",
          "text": [
            "True\n"
          ]
        }
      ],
      "source": [
        "x = 5\n",
        "y = 3\n",
        "result = (x>2) or (y<4)\n",
        "print (result)"
      ]
    },
    {
      "cell_type": "code",
      "execution_count": 13,
      "metadata": {
        "colab": {
          "base_uri": "https://localhost:8080/"
        },
        "id": "JJtC2Bwp3LDB",
        "outputId": "b456c86e-ef7c-4e02-b87c-ce4c75b5f4e4"
      },
      "outputs": [
        {
          "name": "stdout",
          "output_type": "stream",
          "text": [
            "False\n"
          ]
        }
      ],
      "source": [
        "x = 5\n",
        "result = not (x==5)\n",
        "print (result)"
      ]
    },
    {
      "cell_type": "code",
      "execution_count": 14,
      "metadata": {
        "colab": {
          "base_uri": "https://localhost:8080/"
        },
        "id": "tn3EcDa83S2B",
        "outputId": "abb67afd-e109-4548-f0a9-47510d1788b1"
      },
      "outputs": [
        {
          "name": "stdout",
          "output_type": "stream",
          "text": [
            "True\n"
          ]
        }
      ],
      "source": [
        "x = 5\n",
        "result = (x==5)\n",
        "print (result)"
      ]
    },
    {
      "cell_type": "code",
      "execution_count": null,
      "metadata": {
        "id": "wQCbYtxrAVIl"
      },
      "outputs": [],
      "source": []
    },
    {
      "cell_type": "code",
      "execution_count": null,
      "metadata": {
        "id": "1ux30WvWAVWE"
      },
      "outputs": [],
      "source": []
    },
    {
      "cell_type": "code",
      "execution_count": 15,
      "metadata": {
        "colab": {
          "base_uri": "https://localhost:8080/"
        },
        "id": "VnvOwv3n3WRZ",
        "outputId": "1c16d1fb-44ad-4fe3-d0cb-40ae47d7b9ab"
      },
      "outputs": [
        {
          "name": "stdout",
          "output_type": "stream",
          "text": [
            "True\n"
          ]
        }
      ],
      "source": [
        "x = 5\n",
        "result = (x!=3)\n",
        "print (result)"
      ]
    },
    {
      "cell_type": "code",
      "execution_count": 16,
      "metadata": {
        "colab": {
          "base_uri": "https://localhost:8080/"
        },
        "id": "tsZWQt5M3bHw",
        "outputId": "cd7ce921-32e7-44b8-f2b6-689f8dacb082"
      },
      "outputs": [
        {
          "name": "stdout",
          "output_type": "stream",
          "text": [
            "True\n",
            "False\n"
          ]
        }
      ],
      "source": [
        "x = 5\n",
        "result1 = (x>3)\n",
        "result2 = ( x<3)\n",
        "print (result1)\n",
        "print (result2)"
      ]
    },
    {
      "cell_type": "code",
      "execution_count": 17,
      "metadata": {
        "colab": {
          "base_uri": "https://localhost:8080/"
        },
        "id": "7zN0BFPa3oJA",
        "outputId": "32dfc22f-f4c0-4b71-ff41-57cbf2b960d5"
      },
      "outputs": [
        {
          "name": "stdout",
          "output_type": "stream",
          "text": [
            "True\n",
            "False\n"
          ]
        }
      ],
      "source": [
        "x = 5\n",
        "result1 = (x>=3)\n",
        "result2 = ( x<=3)\n",
        "print (result1)\n",
        "print (result2)"
      ]
    },
    {
      "cell_type": "code",
      "execution_count": 18,
      "metadata": {
        "colab": {
          "base_uri": "https://localhost:8080/"
        },
        "id": "98sxYn6b3_no",
        "outputId": "873b833d-21d5-4e06-80a9-ac7a1b9b446b"
      },
      "outputs": [
        {
          "name": "stdout",
          "output_type": "stream",
          "text": [
            "Nhap ten cua banphien\n",
            "xin chao, phien\n"
          ]
        }
      ],
      "source": [
        "name = input (\"Nhap ten cua ban\")\n",
        "print (\"xin chao,\", name)"
      ]
    },
    {
      "cell_type": "code",
      "execution_count": 22,
      "metadata": {
        "colab": {
          "base_uri": "https://localhost:8080/"
        },
        "id": "AIMVYGc44OGZ",
        "outputId": "73af2022-bb4d-4c74-86dc-a658f80cddad"
      },
      "outputs": [
        {
          "name": "stdout",
          "output_type": "stream",
          "text": [
            "nhap tuoi cua ban1\n",
            "tuoi cua ban la: 1\n"
          ]
        }
      ],
      "source": [
        "age = input (\"nhap tuoi cua ban\")\n",
        "print (\"tuoi cua ban la:\", age)"
      ]
    },
    {
      "cell_type": "code",
      "execution_count": 27,
      "metadata": {
        "colab": {
          "base_uri": "https://localhost:8080/"
        },
        "id": "EFWnB-l05HOb",
        "outputId": "5b04d74c-1ed9-4221-adbe-bcd5faa9c094"
      },
      "outputs": [
        {
          "name": "stdout",
          "output_type": "stream",
          "text": [
            "x lon hon 5\n"
          ]
        }
      ],
      "source": [
        "x = 10\n",
        "if x > 5:\n",
        "    print (\"x lon hon 5\")\n",
        "elif x == 5:\n",
        "    print (\"x bang 5\")\n",
        "else:\n",
        "    print (\"x nho hon 5\")"
      ]
    },
    {
      "cell_type": "code",
      "execution_count": 33,
      "metadata": {
        "colab": {
          "base_uri": "https://localhost:8080/"
        },
        "id": "pwHWpmhr3zzS",
        "outputId": "98a7bdb1-4e37-45e3-c6f4-2bdb190ba1d3"
      },
      "outputs": [
        {
          "name": "stdout",
          "output_type": "stream",
          "text": [
            "apple\n",
            "banana\n",
            "cherry\n"
          ]
        }
      ],
      "source": [
        "fruits = [\"apple\", \"banana\", \"cherry\"]\n",
        "for fruit in fruits:\n",
        "    print (fruit) # This line needs to be indented"
      ]
    },
    {
      "cell_type": "code",
      "execution_count": 34,
      "metadata": {
        "colab": {
          "base_uri": "https://localhost:8080/"
        },
        "id": "3suB-SxC7wby",
        "outputId": "65f2da3c-3c08-459b-dba3-05541c8b7168"
      },
      "outputs": [
        {
          "name": "stdout",
          "output_type": "stream",
          "text": [
            "0\n",
            "1\n",
            "2\n",
            "3\n",
            "4\n"
          ]
        }
      ],
      "source": [
        "count = 0\n",
        "while count < 5:\n",
        "       print (count)\n",
        "       count += 1"
      ]
    },
    {
      "cell_type": "code",
      "execution_count": 36,
      "metadata": {
        "colab": {
          "base_uri": "https://localhost:8080/"
        },
        "id": "FkQcPvin9Pdz",
        "outputId": "99b0fcb8-569e-4fa1-cab6-e822eee0a3f0"
      },
      "outputs": [
        {
          "name": "stdout",
          "output_type": "stream",
          "text": [
            " so chia het cho 5 dau tien la: 5\n"
          ]
        }
      ],
      "source": [
        "for i in range(1, 101):\n",
        "  if i % 5 == 0:\n",
        "        print(\" so chia het cho 5 dau tien la:\", i)\n",
        "        break"
      ]
    },
    {
      "cell_type": "code",
      "execution_count": 40,
      "metadata": {
        "id": "2m20qigw90Pj"
      },
      "outputs": [],
      "source": [
        "for i in range(1, 11):\n",
        "  if i % 2 != 0:\n",
        "       continue\n",
        "       print (i)\n"
      ]
    },
    {
      "cell_type": "code",
      "execution_count": 47,
      "metadata": {
        "id": "ObCUMxwf-lGU"
      },
      "outputs": [],
      "source": [
        "x = 5\n",
        "if x > 10:\n",
        "   print (\"x lon hon 10\")\n",
        "else:\n",
        "  pass"
      ]
    },
    {
      "cell_type": "code",
      "execution_count": null,
      "metadata": {
        "id": "x8REsGro-ylr"
      },
      "outputs": [],
      "source": []
    }
  ],
  "metadata": {
    "colab": {
      "provenance": []
    },
    "kernelspec": {
      "display_name": "Python 3",
      "name": "python3"
    },
    "language_info": {
      "name": "python"
    }
  },
  "nbformat": 4,
  "nbformat_minor": 0
}
